{
 "cells": [
  {
   "cell_type": "code",
   "execution_count": null,
   "id": "54e465fa",
   "metadata": {},
   "outputs": [],
   "source": [
    "import pandas as pd\n",
    "import numpy as np\n",
    "import matplotlib.pyplot as plt\n",
    "import seaborn as sns\n",
    "import plotly.graph_objects as go\n",
    "import warnings\n",
    "warnings.filterwarnings('ignore')"
   ]
  },
  {
   "cell_type": "code",
   "execution_count": null,
   "id": "8bf61886",
   "metadata": {},
   "outputs": [],
   "source": [
    "dados = pd.read_csv('PS4_GamesSales.csv', sep=',', encoding='latin-1')\n",
    "dados.head()"
   ]
  },
  {
   "cell_type": "code",
   "execution_count": null,
   "id": "629adbe1",
   "metadata": {},
   "outputs": [],
   "source": [
    "# Verificar a dimensão da tabela\n",
    "dados.shape"
   ]
  },
  {
   "cell_type": "code",
   "execution_count": null,
   "id": "e392e224",
   "metadata": {},
   "outputs": [],
   "source": [
    "# Verificar o tipo de dados\n",
    "dados.info()"
   ]
  },
  {
   "cell_type": "code",
   "execution_count": null,
   "id": "a707e1f6",
   "metadata": {},
   "outputs": [],
   "source": [
    "# Renomear colunas\n",
    "dados.rename(columns={\n",
    "    'Game':'Jogos',\n",
    "    'Genre':'Gênero',\n",
    "    'Publisher':'Publicação',\n",
    "    'North America':'America do Norte',\n",
    "    'Europe':'Europa',\n",
    "    'Japan':'Japão',\n",
    "    'Rest of World':'Resto do Mundo',\n",
    "    'Global':'Geral'    \n",
    "    \n",
    "}, inplace=True)\n",
    "\n",
    "dados.head()"
   ]
  },
  {
   "cell_type": "code",
   "execution_count": null,
   "id": "5f59ac28",
   "metadata": {},
   "outputs": [],
   "source": [
    "# Verificar campos nulos\n",
    "dados['Publicação'].isnull().sum()\n"
   ]
  },
  {
   "cell_type": "code",
   "execution_count": null,
   "id": "d5d6e275",
   "metadata": {},
   "outputs": [],
   "source": [
    "dados.rename(columns={\n",
    "    'Game':'Jogos',\n",
    "    'Year':'Ano',\n",
    "    'Genre':'Gênero',\n",
    "    'Publisher':'Publicação',\n",
    "    'North America':'America do Norte',\n",
    "    'Europe':'Europa',\n",
    "    'Japan':'Japão',\n",
    "    'Rest of World':'Resto do Mundo',\n",
    "    'Global':'Geral'    \n",
    "    \n",
    "}, inplace=True)\n",
    "\n",
    "dados.head()\n"
   ]
  },
  {
   "cell_type": "code",
   "execution_count": null,
   "id": "65b1a264",
   "metadata": {},
   "outputs": [],
   "source": [
    "#Converter data para to_datetime\n",
    "dados['Ano'] = pd.to_datetime(dados['Ano'])\n",
    "dados.info()"
   ]
  },
  {
   "cell_type": "code",
   "execution_count": null,
   "id": "0dda116f",
   "metadata": {},
   "outputs": [],
   "source": [
    "#Avaliar dados da coluna Publicação\n",
    "\n",
    "dados['Publicação'].value_counts()"
   ]
  },
  {
   "cell_type": "code",
   "execution_count": null,
   "id": "e255df35",
   "metadata": {},
   "outputs": [],
   "source": [
    "# Preencher vazios com valor especifico\n",
    "dados['Publicação'] = dados['Publicação'].value_counts()['Namco Bandai Games']\n",
    "dados.head()"
   ]
  },
  {
   "cell_type": "code",
   "execution_count": null,
   "id": "b3864346",
   "metadata": {},
   "outputs": [],
   "source": [
    "# Preencher vazios com valor anterior ou posterior\n",
    "dados['Ano'] = dados['Ano'].fillna(method='bfill')\n",
    "dados.head()"
   ]
  },
  {
   "cell_type": "code",
   "execution_count": null,
   "id": "bf5c7c2f",
   "metadata": {},
   "outputs": [],
   "source": [
    "plt.figure(figsize=(15,6))\n",
    "plt.title('Analisando campos nulos')\n",
    "sns.heatmap(dados.isnull());"
   ]
  },
  {
   "cell_type": "code",
   "execution_count": null,
   "id": "8729d5e0",
   "metadata": {},
   "outputs": [],
   "source": [
    "dados.isnull().sum()"
   ]
  },
  {
   "cell_type": "code",
   "execution_count": null,
   "id": "90a2cad0",
   "metadata": {},
   "outputs": [],
   "source": [
    "# Análise de vendas utilizando o barplot\n",
    "plt.figure(figsize=(12,6))\n",
    "plt.title('Analisando a quantidade de vendas (mi)', loc='left', fontsize=14)\n",
    "plt.style.use('ggplot')\n",
    "\n",
    "sns.barplot(data=dados, x='Ano', y='Geral', ci=None, color='#a2a2a2', estimator=sum);\n",
    "\n",
    "\n",
    "\n"
   ]
  },
  {
   "cell_type": "code",
   "execution_count": null,
   "id": "f88f723a",
   "metadata": {},
   "outputs": [],
   "source": [
    "# Fazer agrupamento por ano\n",
    "dados.groupby(by=['Ano']).sum()"
   ]
  },
  {
   "cell_type": "code",
   "execution_count": null,
   "id": "13755be3",
   "metadata": {},
   "outputs": [],
   "source": [
    "# Verificar outliers através de boxplot\n",
    "\n",
    "plt.figure(figsize=(15,6))\n",
    "plt.title('Analisando outliers')\n",
    "\n",
    "sns.boxplot(data=dados, x='Ano', y='Geral');"
   ]
  },
  {
   "cell_type": "code",
   "execution_count": null,
   "id": "bcc6fb01",
   "metadata": {},
   "outputs": [],
   "source": [
    "dados.info()"
   ]
  },
  {
   "cell_type": "code",
   "execution_count": null,
   "id": "84efe88d",
   "metadata": {},
   "outputs": [],
   "source": []
  }
 ],
 "metadata": {
  "kernelspec": {
   "display_name": "Python 3",
   "language": "python",
   "name": "python3"
  },
  "language_info": {
   "codemirror_mode": {
    "name": "ipython",
    "version": 3
   },
   "file_extension": ".py",
   "mimetype": "text/x-python",
   "name": "python",
   "nbconvert_exporter": "python",
   "pygments_lexer": "ipython3",
   "version": "3.8.8"
  }
 },
 "nbformat": 4,
 "nbformat_minor": 5
}
